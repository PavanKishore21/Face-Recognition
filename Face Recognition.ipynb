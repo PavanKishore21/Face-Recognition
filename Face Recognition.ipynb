{
 "cells": [
  {
   "cell_type": "code",
   "execution_count": 34,
   "metadata": {},
   "outputs": [],
   "source": [
    "import tensorflow \n",
    "from tensorflow import keras\n",
    "from keras import models,layers,optimizers\n",
    "import pandas as pd"
   ]
  },
  {
   "cell_type": "code",
   "execution_count": 14,
   "metadata": {},
   "outputs": [],
   "source": [
    "train_dir = r'D:\\Datasets\\Face Recognition\\train'\n",
    "validation_dir = r'D:\\Datasets\\Face Recognition\\valid'"
   ]
  },
  {
   "cell_type": "code",
   "execution_count": 16,
   "metadata": {},
   "outputs": [],
   "source": [
    "from tensorflow.keras.preprocessing.image import ImageDataGenerator"
   ]
  },
  {
   "cell_type": "code",
   "execution_count": 65,
   "metadata": {},
   "outputs": [
    {
     "name": "stdout",
     "output_type": "stream",
     "text": [
      "Found 3000 images belonging to 5 classes.\n",
      "Found 914 images belonging to 5 classes.\n"
     ]
    }
   ],
   "source": [
    "train_datagen = ImageDataGenerator(\n",
    "    rescale = 1./255,\n",
    "    rotation_range = 40,\n",
    "    width_shift_range = 0.2,\n",
    "    height_shift_range = 0.2,\n",
    "    shear_range = 0.2,\n",
    "    horizontal_flip = True,\n",
    "        )\n",
    "validation_datagen = ImageDataGenerator(rescale = 1./255)\n",
    "\n",
    "\n",
    "train_generator = train_datagen.flow_from_directory(\n",
    "        train_dir,\n",
    "        target_size = (256,256),\n",
    "        batch_size = 32,\n",
    "        class_mode = 'binary'\n",
    ")\n",
    "\n",
    "validation_generator = validation_datagen.flow_from_directory(\n",
    "        validation_dir,\n",
    "        batch_size = 32,\n",
    "        target_size = (256,256),\n",
    "        class_mode = 'binary'\n",
    ")"
   ]
  },
  {
   "cell_type": "code",
   "execution_count": 114,
   "metadata": {
    "scrolled": true
   },
   "outputs": [],
   "source": [
    "from tensorflow.keras.applications import VGG16\n",
    "\n",
    "conv_base = VGG16(weights = 'imagenet',include_top = False,input_shape = (256,256,3))"
   ]
  },
  {
   "cell_type": "code",
   "execution_count": 115,
   "metadata": {
    "scrolled": true
   },
   "outputs": [
    {
     "name": "stdout",
     "output_type": "stream",
     "text": [
      "Model: \"vgg16\"\n",
      "_________________________________________________________________\n",
      "Layer (type)                 Output Shape              Param #   \n",
      "=================================================================\n",
      "input_2 (InputLayer)         [(None, 256, 256, 3)]     0         \n",
      "_________________________________________________________________\n",
      "block1_conv1 (Conv2D)        (None, 256, 256, 64)      1792      \n",
      "_________________________________________________________________\n",
      "block1_conv2 (Conv2D)        (None, 256, 256, 64)      36928     \n",
      "_________________________________________________________________\n",
      "block1_pool (MaxPooling2D)   (None, 128, 128, 64)      0         \n",
      "_________________________________________________________________\n",
      "block2_conv1 (Conv2D)        (None, 128, 128, 128)     73856     \n",
      "_________________________________________________________________\n",
      "block2_conv2 (Conv2D)        (None, 128, 128, 128)     147584    \n",
      "_________________________________________________________________\n",
      "block2_pool (MaxPooling2D)   (None, 64, 64, 128)       0         \n",
      "_________________________________________________________________\n",
      "block3_conv1 (Conv2D)        (None, 64, 64, 256)       295168    \n",
      "_________________________________________________________________\n",
      "block3_conv2 (Conv2D)        (None, 64, 64, 256)       590080    \n",
      "_________________________________________________________________\n",
      "block3_conv3 (Conv2D)        (None, 64, 64, 256)       590080    \n",
      "_________________________________________________________________\n",
      "block3_pool (MaxPooling2D)   (None, 32, 32, 256)       0         \n",
      "_________________________________________________________________\n",
      "block4_conv1 (Conv2D)        (None, 32, 32, 512)       1180160   \n",
      "_________________________________________________________________\n",
      "block4_conv2 (Conv2D)        (None, 32, 32, 512)       2359808   \n",
      "_________________________________________________________________\n",
      "block4_conv3 (Conv2D)        (None, 32, 32, 512)       2359808   \n",
      "_________________________________________________________________\n",
      "block4_pool (MaxPooling2D)   (None, 16, 16, 512)       0         \n",
      "_________________________________________________________________\n",
      "block5_conv1 (Conv2D)        (None, 16, 16, 512)       2359808   \n",
      "_________________________________________________________________\n",
      "block5_conv2 (Conv2D)        (None, 16, 16, 512)       2359808   \n",
      "_________________________________________________________________\n",
      "block5_conv3 (Conv2D)        (None, 16, 16, 512)       2359808   \n",
      "_________________________________________________________________\n",
      "block5_pool (MaxPooling2D)   (None, 8, 8, 512)         0         \n",
      "=================================================================\n",
      "Total params: 14,714,688\n",
      "Trainable params: 14,714,688\n",
      "Non-trainable params: 0\n",
      "_________________________________________________________________\n"
     ]
    }
   ],
   "source": [
    "conv_base.summary()"
   ]
  },
  {
   "cell_type": "code",
   "execution_count": 116,
   "metadata": {},
   "outputs": [],
   "source": [
    "model = models.Sequential()\n",
    "\n",
    "model.add(conv_base)\n",
    "\n",
    "model.add(layers.Flatten())\n",
    "model.add(layers.Dense(300,activation = 'relu'))\n",
    "model.add(layers.Dense(5,activation = 'sigmoid'))"
   ]
  },
  {
   "cell_type": "code",
   "execution_count": 117,
   "metadata": {
    "scrolled": true
   },
   "outputs": [
    {
     "name": "stdout",
     "output_type": "stream",
     "text": [
      "Model: \"sequential_17\"\n",
      "_________________________________________________________________\n",
      "Layer (type)                 Output Shape              Param #   \n",
      "=================================================================\n",
      "module_wrapper_9 (ModuleWrap (None, 8, 8, 512)         14714688  \n",
      "_________________________________________________________________\n",
      "flatten_14 (Flatten)         (None, 32768)             0         \n",
      "_________________________________________________________________\n",
      "dense_38 (Dense)             (None, 300)               9830700   \n",
      "_________________________________________________________________\n",
      "dense_39 (Dense)             (None, 5)                 1505      \n",
      "=================================================================\n",
      "Total params: 24,546,893\n",
      "Trainable params: 24,546,893\n",
      "Non-trainable params: 0\n",
      "_________________________________________________________________\n"
     ]
    }
   ],
   "source": [
    "model.build(input_shape = (None,256,256,3))\n",
    "model.summary()"
   ]
  },
  {
   "cell_type": "code",
   "execution_count": 118,
   "metadata": {},
   "outputs": [],
   "source": [
    "conv_base.trainable = False"
   ]
  },
  {
   "cell_type": "code",
   "execution_count": 119,
   "metadata": {},
   "outputs": [],
   "source": [
    "model.compile(loss = 'sparse_categorical_crossentropy',optimizer = 'RMSprop', metrics = ['acc'])"
   ]
  },
  {
   "cell_type": "code",
   "execution_count": 120,
   "metadata": {},
   "outputs": [
    {
     "name": "stdout",
     "output_type": "stream",
     "text": [
      "Epoch 1/30\n",
      "100/100 [==============================] - 65s 643ms/step - loss: 7.9098 - acc: 0.3451 - val_loss: 1.2645 - val_acc: 0.5668\n",
      "Epoch 2/30\n",
      "100/100 [==============================] - 73s 738ms/step - loss: 1.5660 - acc: 0.6004 - val_loss: 1.9342 - val_acc: 0.5388\n",
      "Epoch 3/30\n",
      "100/100 [==============================] - 77s 769ms/step - loss: 0.9261 - acc: 0.7300 - val_loss: 0.5535 - val_acc: 0.8104\n",
      "Epoch 4/30\n",
      "100/100 [==============================] - 81s 811ms/step - loss: 0.8285 - acc: 0.7405 - val_loss: 0.4288 - val_acc: 0.8241\n",
      "Epoch 5/30\n",
      "100/100 [==============================] - 86s 864ms/step - loss: 0.7202 - acc: 0.7577 - val_loss: 0.3769 - val_acc: 0.8518\n",
      "Epoch 6/30\n",
      "100/100 [==============================] - 94s 942ms/step - loss: 0.6111 - acc: 0.7955 - val_loss: 0.3068 - val_acc: 0.8919\n",
      "Epoch 7/30\n",
      "100/100 [==============================] - 106s 1s/step - loss: 0.5290 - acc: 0.8165 - val_loss: 0.2614 - val_acc: 0.9148\n",
      "Epoch 8/30\n",
      "100/100 [==============================] - 118s 1s/step - loss: 0.4758 - acc: 0.8384 - val_loss: 0.2082 - val_acc: 0.9363\n",
      "Epoch 9/30\n",
      "100/100 [==============================] - 131s 1s/step - loss: 0.4383 - acc: 0.8389 - val_loss: 0.2432 - val_acc: 0.9230\n",
      "Epoch 10/30\n",
      "100/100 [==============================] - 134s 1s/step - loss: 0.4531 - acc: 0.8456 - val_loss: 0.3730 - val_acc: 0.8677\n",
      "Epoch 11/30\n",
      "100/100 [==============================] - 130s 1s/step - loss: 0.3814 - acc: 0.8684 - val_loss: 0.3495 - val_acc: 0.8709\n",
      "Epoch 12/30\n",
      "100/100 [==============================] - 137s 1s/step - loss: 0.4213 - acc: 0.8569 - val_loss: 0.2295 - val_acc: 0.9168\n",
      "Epoch 13/30\n",
      "100/100 [==============================] - 140s 1s/step - loss: 0.3912 - acc: 0.8648 - val_loss: 0.1753 - val_acc: 0.9370\n",
      "Epoch 14/30\n",
      "100/100 [==============================] - 138s 1s/step - loss: 0.3249 - acc: 0.8814 - val_loss: 0.2051 - val_acc: 0.9281\n",
      "Epoch 15/30\n",
      "100/100 [==============================] - 142s 1s/step - loss: 0.3217 - acc: 0.8903 - val_loss: 0.1642 - val_acc: 0.9472\n",
      "Epoch 16/30\n",
      "100/100 [==============================] - 144s 1s/step - loss: 0.2863 - acc: 0.9090 - val_loss: 0.1776 - val_acc: 0.9388\n",
      "Epoch 17/30\n",
      "100/100 [==============================] - 128s 1s/step - loss: 0.3530 - acc: 0.8825 - val_loss: 0.3376 - val_acc: 0.8791\n",
      "Epoch 18/30\n",
      "100/100 [==============================] - 108s 1s/step - loss: 0.3555 - acc: 0.8867 - val_loss: 0.1568 - val_acc: 0.9466\n",
      "Epoch 19/30\n",
      "100/100 [==============================] - 140s 1s/step - loss: 0.2728 - acc: 0.9069 - val_loss: 0.1888 - val_acc: 0.9345\n",
      "Epoch 20/30\n",
      "100/100 [==============================] - 131s 1s/step - loss: 0.3153 - acc: 0.8852 - val_loss: 0.3612 - val_acc: 0.8966\n",
      "Epoch 21/30\n",
      "100/100 [==============================] - 136s 1s/step - loss: 0.2966 - acc: 0.8957 - val_loss: 0.3214 - val_acc: 0.9016\n",
      "Epoch 22/30\n",
      "100/100 [==============================] - 125s 1s/step - loss: 0.3006 - acc: 0.8948 - val_loss: 0.3148 - val_acc: 0.8969\n",
      "Epoch 23/30\n",
      "100/100 [==============================] - 104s 1s/step - loss: 0.2975 - acc: 0.8900 - val_loss: 0.1881 - val_acc: 0.9338\n",
      "Epoch 24/30\n",
      "100/100 [==============================] - 108s 1s/step - loss: 0.2753 - acc: 0.9155 - val_loss: 0.2546 - val_acc: 0.9052\n",
      "Epoch 25/30\n",
      "100/100 [==============================] - 98s 986ms/step - loss: 0.2625 - acc: 0.9170 - val_loss: 0.2238 - val_acc: 0.9193\n",
      "Epoch 26/30\n",
      "100/100 [==============================] - 94s 943ms/step - loss: 0.2570 - acc: 0.9091 - val_loss: 0.2165 - val_acc: 0.9319\n",
      "Epoch 27/30\n",
      "100/100 [==============================] - 115s 1s/step - loss: 0.2640 - acc: 0.9131 - val_loss: 0.1904 - val_acc: 0.9396\n",
      "Epoch 28/30\n",
      "100/100 [==============================] - 99s 996ms/step - loss: 0.2817 - acc: 0.9021 - val_loss: 0.1736 - val_acc: 0.9497\n",
      "Epoch 29/30\n",
      "100/100 [==============================] - 103s 1s/step - loss: 0.2492 - acc: 0.9175 - val_loss: 0.1685 - val_acc: 0.9451\n",
      "Epoch 30/30\n",
      "100/100 [==============================] - 97s 972ms/step - loss: 0.2412 - acc: 0.9178 - val_loss: 0.2546 - val_acc: 0.9186\n"
     ]
    }
   ],
   "source": [
    "history = model.fit_generator(\n",
    "    train_generator,\n",
    "    steps_per_epoch = 100,\n",
    "    epochs = 30,\n",
    "    validation_data = validation_generator,\n",
    "    validation_steps = 50\n",
    ")"
   ]
  },
  {
   "cell_type": "code",
   "execution_count": 122,
   "metadata": {},
   "outputs": [
    {
     "data": {
      "text/plain": [
       "<function matplotlib.pyplot.show(close=None, block=None)>"
      ]
     },
     "execution_count": 122,
     "metadata": {},
     "output_type": "execute_result"
    },
    {
     "data": {
      "image/png": "[encoded data removed]",
      "text/plain": [
       "<Figure size 576x360 with 1 Axes>"
      ]
     },
     "metadata": {
      "needs_background": "light"
     },
     "output_type": "display_data"
    }
   ],
   "source": [
    "import matplotlib.pyplot as plt\n",
    "pd.DataFrame(history.history).plot(figsize=(8,5))\n",
    "plt.grid(True)\n",
    "plt.show"
   ]
  },
  {
   "cell_type": "code",
   "execution_count": null,
   "metadata": {},
   "outputs": [],
   "source": []
  }
 ],
 "metadata": {
  "kernelspec": {
   "display_name": "Python 3",
   "language": "python",
   "name": "python3"
  },
  "language_info": {
   "codemirror_mode": {
    "name": "ipython",
    "version": 3
   },
   "file_extension": ".py",
   "mimetype": "text/x-python",
   "name": "python",
   "nbconvert_exporter": "python",
   "pygments_lexer": "ipython3",
   "version": "3.8.5"
  }
 },
 "nbformat": 4,
 "nbformat_minor": 4
}
